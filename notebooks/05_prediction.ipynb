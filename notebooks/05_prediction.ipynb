{
 "cells": [
  {
   "cell_type": "code",
   "execution_count": 12,
   "id": "2f9c70cb-5100-47f2-9799-1293e00bda00",
   "metadata": {},
   "outputs": [
    {
     "name": "stdout",
     "output_type": "stream",
     "text": [
      "Mean Squared Error: 1856.26\n",
      "R2 Score: 0.30\n",
      "Root Mean Squared Error (RMSE): 43.08\n",
      "Final R2 Score: 0.3\n",
      "✅ Model saved as 'rf_model.pkl'\n",
      "✅ Processed data saved as 'processed_data.csv'\n"
     ]
    }
   ],
   "source": [
    "# ✅ Import Libraries\n",
    "from sklearn.model_selection import train_test_split\n",
    "from sklearn.ensemble import RandomForestRegressor\n",
    "from sklearn.metrics import mean_squared_error, r2_score\n",
    "from sklearn.preprocessing import LabelEncoder\n",
    "import joblib\n",
    "import pandas as pd\n",
    "import numpy as np\n",
    "\n",
    "# ✅ Load Dataset\n",
    "# Load the data from CSV file (replace with correct path)\n",
    "file_path = '../data/raw_data.csv'\n",
    "df = pd.read_csv(file_path)\n",
    "\n",
    "# ✅ Data Cleaning\n",
    "# Remove leading and trailing whitespaces in 'Traffic' column\n",
    "df['Traffic'] = df['Traffic'].str.strip()\n",
    "\n",
    "# Convert categorical values in 'Traffic' to numerical using LabelEncoder\n",
    "encoder = LabelEncoder()\n",
    "df['Traffic'] = encoder.fit_transform(df['Traffic'])\n",
    "\n",
    "# ✅ Prepare Data\n",
    "# Select relevant features (independent variables)\n",
    "X = df[['Agent_Age', 'Agent_Rating', 'Traffic']]\n",
    "# Select target variable (dependent variable)\n",
    "y = df['Delivery_Time']\n",
    "\n",
    "# ✅ Split Data\n",
    "# Split data into 80% training and 20% testing sets\n",
    "X_train, X_test, y_train, y_test = train_test_split(\n",
    "    X, y, test_size=0.2, random_state=42)\n",
    "\n",
    "# ✅ Train Model\n",
    "# Initialize and train the RandomForestRegressor\n",
    "model = RandomForestRegressor(random_state=42)\n",
    "model.fit(X_train, y_train)\n",
    "\n",
    "# ✅ Predict\n",
    "# Make predictions using the trained model\n",
    "y_pred = model.predict(X_test)\n",
    "\n",
    "# ✅ Evaluate Model\n",
    "# Calculate Mean Squared Error (MSE)\n",
    "mse = mean_squared_error(y_test, y_pred)\n",
    "# Calculate R-Squared Score\n",
    "r2 = r2_score(y_test, y_pred)\n",
    "\n",
    "# ✅ Display Evaluation Metrics\n",
    "print(f'Mean Squared Error: {mse:.2f}')\n",
    "print(f'R2 Score: {r2:.2f}')\n",
    "\n",
    "# ✅ Re-train Model to Confirm Output\n",
    "model = RandomForestRegressor(random_state=42)\n",
    "model.fit(X_train, y_train)\n",
    "predictions = model.predict(X_test)\n",
    "\n",
    "# ✅ Calculate and Display Final Metrics\n",
    "rmse = np.sqrt(mean_squared_error(y_test, predictions))\n",
    "final_r2 = r2_score(y_test, predictions)\n",
    "\n",
    "print('Root Mean Squared Error (RMSE):', round(rmse, 2))\n",
    "print('Final R2 Score:', round(final_r2, 2))\n",
    "\n",
    "# ✅ Save Model and Processed Data\n",
    "# Save the trained model using joblib\n",
    "joblib.dump(model, '../models/rf_model.pkl')\n",
    "\n",
    "# Save the processed dataset to a CSV file\n",
    "df.to_csv('../output/processed_data.csv', index=False)\n",
    "\n",
    "print(\"✅ Model saved as 'rf_model.pkl'\")\n",
    "print(\"✅ Processed data saved as 'processed_data.csv'\")\n"
   ]
  },
  {
   "cell_type": "code",
   "execution_count": null,
   "id": "1d1ac073-a494-4549-9fab-abf9b859c7ff",
   "metadata": {},
   "outputs": [],
   "source": []
  }
 ],
 "metadata": {
  "kernelspec": {
   "display_name": "Python 3 (ipykernel)",
   "language": "python",
   "name": "python3"
  },
  "language_info": {
   "codemirror_mode": {
    "name": "ipython",
    "version": 3
   },
   "file_extension": ".py",
   "mimetype": "text/x-python",
   "name": "python",
   "nbconvert_exporter": "python",
   "pygments_lexer": "ipython3",
   "version": "3.12.7"
  }
 },
 "nbformat": 4,
 "nbformat_minor": 5
}
